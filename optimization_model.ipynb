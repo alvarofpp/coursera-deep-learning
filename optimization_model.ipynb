{
  "nbformat": 4,
  "nbformat_minor": 0,
  "metadata": {
    "colab": {
      "name": "optimization_model.ipynb",
      "version": "0.3.2",
      "provenance": [],
      "collapsed_sections": []
    },
    "kernelspec": {
      "name": "python3",
      "display_name": "Python 3"
    }
  },
  "cells": [
    {
      "cell_type": "markdown",
      "metadata": {
        "id": "tSO4UnErayec",
        "colab_type": "text"
      },
      "source": [
        "# Normalização\n",
        "Quando treinamos uma rede neural, uma das técnicas que podem acelerar o seu treino é normalizar suas entradas. Normalizar as suas entradas corresponde a duas etapas:\n",
        "1. Subtrair ou zerar a média;\n",
        "1. Normalizar a variância.\n",
        "\n",
        "<img src=\"http://x-wei.github.io/images/Ng_DLMooc_c2wk1//pasted_image018.png\" />\n",
        "\n",
        "Na primeira etapa, iremos:\n",
        "\\begin{equation}\n",
        "    \\mu = \\frac{1}{m} \\sum_{i=1}^{n} x^{(i)} \\\\\n",
        "    x := x - \\mu\n",
        "\\end{equation}\n",
        "\n",
        "Na segunda etapa, iremos:\n",
        "\\begin{equation}\n",
        "    \\sigma^{2} = \\frac{1}{m} \\sum_{i=1}^{n} (x^{(i)})^{2} \\\\\n",
        "    x := \\frac{x}{\\sigma^{2}}\n",
        "\\end{equation}"
      ]
    },
    {
      "cell_type": "code",
      "metadata": {
        "id": "B6uxERhRd_ll",
        "colab_type": "code",
        "colab": {}
      },
      "source": [
        ""
      ],
      "execution_count": 0,
      "outputs": []
    }
  ]
}