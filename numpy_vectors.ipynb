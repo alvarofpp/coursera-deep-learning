{
  "nbformat": 4,
  "nbformat_minor": 0,
  "metadata": {
    "colab": {
      "name": "numpy-vectors.ipynb",
      "version": "0.3.2",
      "provenance": [],
      "collapsed_sections": []
    },
    "kernelspec": {
      "name": "python3",
      "display_name": "Python 3"
    }
  },
  "cells": [
    {
      "metadata": {
        "id": "jxQ0tPzmzWiM",
        "colab_type": "text"
      },
      "cell_type": "markdown",
      "source": [
        "# Vetores no numpy\n",
        "Alguns comportamentos durante as manipulações podem parecer estranhos. Isso pode ocorrer devido a estrutura de dados que estamos utilizando nessas manipulações. A seguir veja um exemplo entre uma matriz de ordem 1 e um vetor coluna."
      ]
    },
    {
      "metadata": {
        "id": "la_d_7YF0giy",
        "colab_type": "code",
        "colab": {
          "base_uri": "https://localhost:8080/",
          "height": 52
        },
        "outputId": "36c8d633-197a-403c-dd5c-220ad40a5b28"
      },
      "cell_type": "code",
      "source": [
        "import numpy as np\n",
        "\n",
        "# Cria cinco variáveis gaussianas aleatórias\n",
        "a = np.random.randn(5)\n",
        "print(a)\n",
        "# Pelo shape, podemos ver que é uma estrutura de cinco colunas\n",
        "print(a.shape)"
      ],
      "execution_count": 4,
      "outputs": [
        {
          "output_type": "stream",
          "text": [
            "[ 1.00405494  0.04095235  0.32742944 -1.29322123  0.8797873 ]\n",
            "(5,)\n"
          ],
          "name": "stdout"
        }
      ]
    },
    {
      "metadata": {
        "id": "qUgeVxZv0it-",
        "colab_type": "text"
      },
      "cell_type": "markdown",
      "source": [
        "Acaba que isso se torna uma matriz de ordem 1, não um vetor linha nem um vetor coluna. Isso causa efeitos não desejáveis, por exemplo:\n",
        "- A sua transposta ser igual a matriz original;\n",
        "- O seu produto externo não resultar em uma matriz, mas em um número."
      ]
    },
    {
      "metadata": {
        "id": "iCSS1CxwzVdu",
        "colab_type": "code",
        "colab": {
          "base_uri": "https://localhost:8080/",
          "height": 52
        },
        "outputId": "072f50f6-08b5-43ee-c4a4-0450de65053e"
      },
      "cell_type": "code",
      "source": [
        "print(a.T)\n",
        "print(np.dot(a, a.T))"
      ],
      "execution_count": 6,
      "outputs": [
        {
          "output_type": "stream",
          "text": [
            "[ 1.00405494  0.04095235  0.32742944 -1.29322123  0.8797873 ]\n",
            "3.5634602985023056\n"
          ],
          "name": "stdout"
        }
      ]
    },
    {
      "metadata": {
        "id": "38fA9wu71Ed7",
        "colab_type": "text"
      },
      "cell_type": "markdown",
      "source": [
        "Ao invés de usar essas estruturas de matriz de ordem 1, podemos utilizar, por exemplo, um vetor coluna (5, 1)."
      ]
    },
    {
      "metadata": {
        "id": "uuNSZAZBz6CB",
        "colab_type": "code",
        "colab": {
          "base_uri": "https://localhost:8080/",
          "height": 104
        },
        "outputId": "9f01e325-b29a-408b-c605-1419e515123b"
      },
      "cell_type": "code",
      "source": [
        "a = np.random.randn(5, 1)\n",
        "print(a)"
      ],
      "execution_count": 7,
      "outputs": [
        {
          "output_type": "stream",
          "text": [
            "[[ 0.71673429]\n",
            " [ 1.60794391]\n",
            " [ 0.54658164]\n",
            " [ 1.50521085]\n",
            " [-0.66886241]]\n"
          ],
          "name": "stdout"
        }
      ]
    },
    {
      "metadata": {
        "id": "N_0sCG1P1XYe",
        "colab_type": "text"
      },
      "cell_type": "markdown",
      "source": [
        "Dessa forma, sua transposta será um vetor linha (1, 5)."
      ]
    },
    {
      "metadata": {
        "id": "RN-LEYvi1WHd",
        "colab_type": "code",
        "colab": {
          "base_uri": "https://localhost:8080/",
          "height": 34
        },
        "outputId": "521d561b-3d53-420e-b74f-378daa6d1779"
      },
      "cell_type": "code",
      "source": [
        "print(a.T)"
      ],
      "execution_count": 8,
      "outputs": [
        {
          "output_type": "stream",
          "text": [
            "[[ 0.71673429  1.60794391  0.54658164  1.50521085 -0.66886241]]\n"
          ],
          "name": "stdout"
        }
      ]
    },
    {
      "metadata": {
        "id": "2oOHBjRV1mz3",
        "colab_type": "text"
      },
      "cell_type": "markdown",
      "source": [
        "E o seu produto externo será uma matriz, assim como esperamos que seja."
      ]
    },
    {
      "metadata": {
        "id": "QuKwow5V1ccg",
        "colab_type": "code",
        "colab": {
          "base_uri": "https://localhost:8080/",
          "height": 104
        },
        "outputId": "d1daf354-de8d-4de4-9e0f-424a8cf771c3"
      },
      "cell_type": "code",
      "source": [
        "print(np.dot(a, a.T))"
      ],
      "execution_count": 9,
      "outputs": [
        {
          "output_type": "stream",
          "text": [
            "[[ 0.51370805  1.15246854  0.3917538   1.07883623 -0.47939663]\n",
            " [ 1.15246854  2.58548363  0.87887262  2.42029462 -1.07549325]\n",
            " [ 0.3917538   0.87887262  0.29875149  0.82272061 -0.36558791]\n",
            " [ 1.07883623  2.42029462  0.82272061  2.26565969 -1.00677896]\n",
            " [-0.47939663 -1.07549325 -0.36558791 -1.00677896  0.44737693]]\n"
          ],
          "name": "stdout"
        }
      ]
    }
  ]
}